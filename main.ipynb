{
 "cells": [
  {
   "cell_type": "code",
   "execution_count": 1,
   "metadata": {},
   "outputs": [],
   "source": [
    "import os\n",
    "import numpy as np\n",
    "from absl import flags, app\n",
    "from model import MLQP\n",
    "from utils import dataloader, set_seed\n",
    "from tqdm import trange\n",
    "import pandas as pd\n",
    "\n",
    "lr = 1e-1\n",
    "num_hidden = 32\n",
    "num_epoch = 2000\n",
    "name = \"mlqp\"\n"
   ]
  },
  {
   "cell_type": "code",
   "execution_count": 2,
   "metadata": {},
   "outputs": [
    {
     "name": "stderr",
     "output_type": "stream",
     "text": [
      "/Users/liyang/Documents/GitRepos/Minmax-MLQP/utils.py:20: VisibleDeprecationWarning: Creating an ndarray from ragged nested sequences (which is a list-or-tuple of lists-or-tuples-or ndarrays with different lengths or shapes) is deprecated. If you meant to do this, you must specify 'dtype=object' when creating the ndarray.\n",
      "  return np.array(res)\n",
      "Training: 100% 2000/2000 [00:31<00:00, 64.07it/s, acc=0.9467, loss=6.0508] \n"
     ]
    }
   ],
   "source": [
    "train_data = dataloader(\"train\")\n",
    "test_data = dataloader(\"test\")\n",
    "mlqp = MLQP(1, 2, num_hidden, 1)\n",
    "train_loss, train_acc, test_loss, test_acc = [], [], [], []\n",
    "\n",
    "with trange(1, num_epoch + 1, desc='Training', ncols=0) as pbar:\n",
    "    for epoch in pbar:\n",
    "        #train\n",
    "        preds = []\n",
    "        for cor, y in train_data:\n",
    "            pred = mlqp.forward(cor)\n",
    "            mlqp.backward(y)\n",
    "            mlqp.step(lr)\n",
    "            preds.append(pred)\n",
    "        preds = np.squeeze(np.array(preds))\n",
    "        loss = (0.5 * (train_data[:, 1] - preds) ** 2).sum()\n",
    "        acc = ((preds > 0.5) == train_data[:, 1]).mean()\n",
    "        pbar.set_postfix(loss='%.4f' % loss, acc='%.4f' % acc)\n",
    "        train_loss.append(loss)\n",
    "        train_acc.append(acc)\n",
    "\n",
    "        # test\n",
    "        if epoch % 50 == 0:\n",
    "            preds = []\n",
    "            for cor, y in train_data:\n",
    "                pred = mlqp.forward(cor)\n",
    "                preds.append(pred)\n",
    "            preds = np.squeeze(np.array(preds))\n",
    "            loss = (0.5 * (train_data[:, 1] - preds) ** 2).sum()\n",
    "            acc = ((preds > 0.5) == train_data[:, 1]).mean()\n",
    "            pbar.set_postfix(loss='%.4f' % loss, acc='%.4f' % acc)\n",
    "            train_loss.append(loss)\n",
    "            train_acc.append(acc)\n"
   ]
  },
  {
   "cell_type": "code",
   "execution_count": null,
   "metadata": {},
   "outputs": [],
   "source": []
  }
 ],
 "metadata": {
  "interpreter": {
   "hash": "6a8a981b57cc850bb1584f9adf5035162977b36ca1aeddc1ab91be0c620e9260"
  },
  "kernelspec": {
   "display_name": "Python 3.8.11 ('base')",
   "language": "python",
   "name": "python3"
  },
  "language_info": {
   "codemirror_mode": {
    "name": "ipython",
    "version": 3
   },
   "file_extension": ".py",
   "mimetype": "text/x-python",
   "name": "python",
   "nbconvert_exporter": "python",
   "pygments_lexer": "ipython3",
   "version": "3.8.11"
  },
  "orig_nbformat": 4
 },
 "nbformat": 4,
 "nbformat_minor": 2
}
